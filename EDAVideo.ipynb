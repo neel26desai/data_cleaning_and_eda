{
  "nbformat": 4,
  "nbformat_minor": 0,
  "metadata": {
    "colab": {
      "provenance": [],
      "gpuType": "T4",
      "authorship_tag": "ABX9TyMPaDlHvBND+p8q5puXEHDK",
      "include_colab_link": true
    },
    "kernelspec": {
      "name": "python3",
      "display_name": "Python 3"
    },
    "language_info": {
      "name": "python"
    },
    "accelerator": "GPU"
  },
  "cells": [
    {
      "cell_type": "markdown",
      "metadata": {
        "id": "view-in-github",
        "colab_type": "text"
      },
      "source": [
        "<a href=\"https://colab.research.google.com/github/neel26desai/data_cleaning_and_eda/blob/main/EDAVideo.ipynb\" target=\"_parent\"><img src=\"https://colab.research.google.com/assets/colab-badge.svg\" alt=\"Open In Colab\"/></a>"
      ]
    },
    {
      "cell_type": "markdown",
      "source": [
        "We will be loading performing EDA and cleaning the  a subset of the UCF101 dataset and build a simple classification model (classifying actions as Bowling or GolfSwing)."
      ],
      "metadata": {
        "id": "fc-IRUMjv3Uu"
      }
    },
    {
      "cell_type": "code",
      "execution_count": 1,
      "metadata": {
        "colab": {
          "base_uri": "https://localhost:8080/"
        },
        "id": "Cb09Kyk9v0vw",
        "outputId": "bec4b4a1-38f6-406d-92ec-e30479a87a4e"
      },
      "outputs": [
        {
          "output_type": "stream",
          "name": "stdout",
          "text": [
            "Drive already mounted at /content/drive; to attempt to forcibly remount, call drive.mount(\"/content/drive\", force_remount=True).\n"
          ]
        }
      ],
      "source": [
        "from google.colab import drive\n",
        "drive.mount('/content/drive')"
      ]
    },
    {
      "cell_type": "code",
      "source": [
        "import os\n",
        "\n",
        "def load_video_paths_and_labels(data_dir):\n",
        "    video_paths = []\n",
        "    labels = []\n",
        "    categories = os.listdir(data_dir)\n",
        "\n",
        "    for category in categories:\n",
        "        category_path = os.path.join(data_dir, category)\n",
        "        if os.path.isdir(category_path):\n",
        "            for i,video_filename in enumerate(os.listdir(category_path)):\n",
        "              if i<20:\n",
        "                video_path = os.path.join(category_path, video_filename)\n",
        "                video_paths.append(video_path)\n",
        "                labels.append(category)\n",
        "\n",
        "    return video_paths, labels\n"
      ],
      "metadata": {
        "id": "_Z9QgzsCx8GN"
      },
      "execution_count": 1,
      "outputs": []
    },
    {
      "cell_type": "code",
      "source": [
        "# Define the directory where your dataset is stored\n",
        "data_dir = '/content/drive/MyDrive/UCF101'\n",
        "\n",
        "# Load the video paths and their corresponding labels\n",
        "video_paths, labels = load_video_paths_and_labels(data_dir)\n"
      ],
      "metadata": {
        "id": "g_O8Akk40YVl"
      },
      "execution_count": 2,
      "outputs": []
    },
    {
      "cell_type": "code",
      "source": [
        "import cv2\n",
        "\n",
        "def print_video_info(video_path):\n",
        "    cap = cv2.VideoCapture(video_path)\n",
        "    frame_count = int(cap.get(cv2.CAP_PROP_FRAME_COUNT))\n",
        "    frame_width = int(cap.get(cv2.CAP_PROP_FRAME_WIDTH))\n",
        "    frame_height = int(cap.get(cv2.CAP_PROP_FRAME_HEIGHT))\n",
        "    fps = cap.get(cv2.CAP_PROP_FPS)\n",
        "    cap.release()\n",
        "\n",
        "    print(f\"Video Path: {video_path}\")\n",
        "    print(f\"Frame Count: {frame_count}\")\n",
        "    print(f\"Resolution: {frame_width}x{frame_height}\")\n",
        "    print(f\"FPS: {fps}\")\n"
      ],
      "metadata": {
        "id": "X-M0HG58zXG7"
      },
      "execution_count": 3,
      "outputs": []
    },
    {
      "cell_type": "code",
      "source": [
        "# Now iterate over each video path and print its information\n",
        "for video_path in video_paths:\n",
        "    print_video_info(video_path)"
      ],
      "metadata": {
        "colab": {
          "base_uri": "https://localhost:8080/"
        },
        "id": "wzmmqwl51LpY",
        "outputId": "35a530d0-e204-4597-b7f3-ff41cf94483f"
      },
      "execution_count": 4,
      "outputs": [
        {
          "output_type": "stream",
          "name": "stdout",
          "text": [
            "Video Path: /content/drive/MyDrive/UCF101/Bowling/v_Bowling_g14_c04.avi\n",
            "Frame Count: 127\n",
            "Resolution: 320x240\n",
            "FPS: 25.0\n",
            "Video Path: /content/drive/MyDrive/UCF101/Bowling/v_Bowling_g12_c02.avi\n",
            "Frame Count: 105\n",
            "Resolution: 320x240\n",
            "FPS: 25.0\n",
            "Video Path: /content/drive/MyDrive/UCF101/Bowling/v_Bowling_g16_c01.avi\n",
            "Frame Count: 113\n",
            "Resolution: 320x240\n",
            "FPS: 25.0\n",
            "Video Path: /content/drive/MyDrive/UCF101/Bowling/v_Bowling_g04_c04.avi\n",
            "Frame Count: 50\n",
            "Resolution: 320x240\n",
            "FPS: 25.0\n",
            "Video Path: /content/drive/MyDrive/UCF101/Bowling/v_Bowling_g09_c02.avi\n",
            "Frame Count: 135\n",
            "Resolution: 320x240\n",
            "FPS: 25.0\n",
            "Video Path: /content/drive/MyDrive/UCF101/Bowling/v_Bowling_g14_c03.avi\n",
            "Frame Count: 129\n",
            "Resolution: 320x240\n",
            "FPS: 25.0\n",
            "Video Path: /content/drive/MyDrive/UCF101/Bowling/v_Bowling_g12_c04.avi\n",
            "Frame Count: 90\n",
            "Resolution: 320x240\n",
            "FPS: 25.0\n",
            "Video Path: /content/drive/MyDrive/UCF101/Bowling/v_Bowling_g13_c03.avi\n",
            "Frame Count: 119\n",
            "Resolution: 320x240\n",
            "FPS: 25.0\n",
            "Video Path: /content/drive/MyDrive/UCF101/Bowling/v_Bowling_g11_c05.avi\n",
            "Frame Count: 174\n",
            "Resolution: 320x240\n",
            "FPS: 25.0\n",
            "Video Path: /content/drive/MyDrive/UCF101/Bowling/v_Bowling_g12_c03.avi\n",
            "Frame Count: 101\n",
            "Resolution: 320x240\n",
            "FPS: 25.0\n",
            "Video Path: /content/drive/MyDrive/UCF101/Bowling/v_Bowling_g13_c02.avi\n",
            "Frame Count: 128\n",
            "Resolution: 320x240\n",
            "FPS: 25.0\n",
            "Video Path: /content/drive/MyDrive/UCF101/Bowling/v_Bowling_g13_c04.avi\n",
            "Frame Count: 141\n",
            "Resolution: 320x240\n",
            "FPS: 25.0\n",
            "Video Path: /content/drive/MyDrive/UCF101/Bowling/v_Bowling_g13_c05.avi\n",
            "Frame Count: 107\n",
            "Resolution: 320x240\n",
            "FPS: 25.0\n",
            "Video Path: /content/drive/MyDrive/UCF101/Bowling/v_Bowling_g14_c02.avi\n",
            "Frame Count: 117\n",
            "Resolution: 320x240\n",
            "FPS: 25.0\n",
            "Video Path: /content/drive/MyDrive/UCF101/Bowling/v_Bowling_g14_c01.avi\n",
            "Frame Count: 127\n",
            "Resolution: 320x240\n",
            "FPS: 25.0\n",
            "Video Path: /content/drive/MyDrive/UCF101/Bowling/v_Bowling_g12_c01.avi\n",
            "Frame Count: 79\n",
            "Resolution: 320x240\n",
            "FPS: 25.0\n",
            "Video Path: /content/drive/MyDrive/UCF101/Bowling/v_Bowling_g13_c01.avi\n",
            "Frame Count: 118\n",
            "Resolution: 320x240\n",
            "FPS: 25.0\n",
            "Video Path: /content/drive/MyDrive/UCF101/Bowling/v_Bowling_g10_c07.avi\n",
            "Frame Count: 105\n",
            "Resolution: 320x240\n",
            "FPS: 25.0\n",
            "Video Path: /content/drive/MyDrive/UCF101/Bowling/v_Bowling_g13_c06.avi\n",
            "Frame Count: 141\n",
            "Resolution: 320x240\n",
            "FPS: 25.0\n",
            "Video Path: /content/drive/MyDrive/UCF101/Bowling/v_Bowling_g11_c04.avi\n",
            "Frame Count: 150\n",
            "Resolution: 320x240\n",
            "FPS: 25.0\n",
            "Video Path: /content/drive/MyDrive/UCF101/GolfSwing/v_GolfSwing_g01_c03.avi\n",
            "Frame Count: 191\n",
            "Resolution: 320x240\n",
            "FPS: 29.97002997002997\n",
            "Video Path: /content/drive/MyDrive/UCF101/GolfSwing/v_GolfSwing_g06_c02.avi\n",
            "Frame Count: 109\n",
            "Resolution: 320x240\n",
            "FPS: 29.97002997002997\n",
            "Video Path: /content/drive/MyDrive/UCF101/GolfSwing/v_GolfSwing_g03_c06.avi\n",
            "Frame Count: 252\n",
            "Resolution: 320x240\n",
            "FPS: 29.97002997002997\n",
            "Video Path: /content/drive/MyDrive/UCF101/GolfSwing/v_GolfSwing_g03_c03.avi\n",
            "Frame Count: 180\n",
            "Resolution: 320x240\n",
            "FPS: 29.97002997002997\n",
            "Video Path: /content/drive/MyDrive/UCF101/GolfSwing/v_GolfSwing_g01_c06.avi\n",
            "Frame Count: 518\n",
            "Resolution: 320x240\n",
            "FPS: 29.97002997002997\n",
            "Video Path: /content/drive/MyDrive/UCF101/GolfSwing/v_GolfSwing_g05_c01.avi\n",
            "Frame Count: 114\n",
            "Resolution: 320x240\n",
            "FPS: 29.97002997002997\n",
            "Video Path: /content/drive/MyDrive/UCF101/GolfSwing/v_GolfSwing_g03_c02.avi\n",
            "Frame Count: 113\n",
            "Resolution: 320x240\n",
            "FPS: 29.97002997002997\n",
            "Video Path: /content/drive/MyDrive/UCF101/GolfSwing/v_GolfSwing_g01_c04.avi\n",
            "Frame Count: 76\n",
            "Resolution: 320x240\n",
            "FPS: 29.97002997002997\n",
            "Video Path: /content/drive/MyDrive/UCF101/GolfSwing/v_GolfSwing_g04_c05.avi\n",
            "Frame Count: 345\n",
            "Resolution: 320x240\n",
            "FPS: 29.97002997002997\n",
            "Video Path: /content/drive/MyDrive/UCF101/GolfSwing/v_GolfSwing_g03_c01.avi\n",
            "Frame Count: 132\n",
            "Resolution: 320x240\n",
            "FPS: 29.97002997002997\n",
            "Video Path: /content/drive/MyDrive/UCF101/GolfSwing/v_GolfSwing_g04_c03.avi\n",
            "Frame Count: 171\n",
            "Resolution: 320x240\n",
            "FPS: 29.97002997002997\n",
            "Video Path: /content/drive/MyDrive/UCF101/GolfSwing/v_GolfSwing_g01_c01.avi\n",
            "Frame Count: 172\n",
            "Resolution: 320x240\n",
            "FPS: 29.97002997002997\n",
            "Video Path: /content/drive/MyDrive/UCF101/GolfSwing/v_GolfSwing_g04_c04.avi\n",
            "Frame Count: 183\n",
            "Resolution: 320x240\n",
            "FPS: 29.97002997002997\n",
            "Video Path: /content/drive/MyDrive/UCF101/GolfSwing/v_GolfSwing_g04_c01.avi\n",
            "Frame Count: 125\n",
            "Resolution: 320x240\n",
            "FPS: 29.97002997002997\n",
            "Video Path: /content/drive/MyDrive/UCF101/GolfSwing/v_GolfSwing_g03_c05.avi\n",
            "Frame Count: 146\n",
            "Resolution: 320x240\n",
            "FPS: 29.97002997002997\n",
            "Video Path: /content/drive/MyDrive/UCF101/GolfSwing/v_GolfSwing_g02_c03.avi\n",
            "Frame Count: 92\n",
            "Resolution: 320x240\n",
            "FPS: 29.97002997002997\n",
            "Video Path: /content/drive/MyDrive/UCF101/GolfSwing/v_GolfSwing_g04_c02.avi\n",
            "Frame Count: 122\n",
            "Resolution: 320x240\n",
            "FPS: 29.97002997002997\n",
            "Video Path: /content/drive/MyDrive/UCF101/GolfSwing/v_GolfSwing_g02_c01.avi\n",
            "Frame Count: 140\n",
            "Resolution: 320x240\n",
            "FPS: 29.97002997002997\n",
            "Video Path: /content/drive/MyDrive/UCF101/GolfSwing/v_GolfSwing_g02_c04.avi\n",
            "Frame Count: 122\n",
            "Resolution: 320x240\n",
            "FPS: 29.97002997002997\n",
            "Video Path: /content/drive/MyDrive/UCF101/GolfSwing/v_GolfSwing_g03_c04.avi\n",
            "Frame Count: 145\n",
            "Resolution: 320x240\n",
            "FPS: 29.97002997002997\n"
          ]
        }
      ]
    },
    {
      "cell_type": "markdown",
      "source": [
        "## Data Cleaning\n",
        "In this step you would go throught eh data to make sure all files are readble and labels are consistent"
      ],
      "metadata": {
        "id": "eODYRHqazYdA"
      }
    },
    {
      "cell_type": "code",
      "source": [
        "import numpy as np\n",
        "\n",
        "def preprocess_video(video_path, num_frames=16):\n",
        "    cap = cv2.VideoCapture(video_path)\n",
        "    frames = []\n",
        "    try:\n",
        "        for _ in range(num_frames):\n",
        "            ret, frame = cap.read()\n",
        "            if not ret:\n",
        "                break\n",
        "            frame = cv2.resize(frame, (224, 224))  # Resize to match the model input\n",
        "            frame = frame / 255.0  # Normalize pixel values\n",
        "            frames.append(frame)\n",
        "    finally:\n",
        "        cap.release()\n",
        "\n",
        "    # If the video is shorter than `num_frames`, we pad with zeros\n",
        "    if len(frames) < num_frames:\n",
        "        frames += [np.zeros_like(frames[0]) for _ in range(num_frames - len(frames))]\n",
        "\n",
        "    return np.array(frames)\n"
      ],
      "metadata": {
        "id": "5Kilhou8zrKl"
      },
      "execution_count": 5,
      "outputs": []
    },
    {
      "cell_type": "code",
      "source": [
        "# Assume you have a list of video paths called video_paths\n",
        "# Choose the number of frames you want to extract from each video\n",
        "num_frames = 20\n",
        "\n",
        "# Preprocess all videos\n",
        "preprocessed_videos = [preprocess_video(video_path, num_frames=num_frames) for video_path in video_paths]\n",
        "\n",
        "# Now preprocessed_videos is a list where each item is a numpy array of preprocessed frames from a video\n",
        "\n",
        "\n",
        "# preprocessed_video now contains the preprocessed frames from the first video\n"
      ],
      "metadata": {
        "id": "KLGLiY9r1dwT"
      },
      "execution_count": 6,
      "outputs": []
    },
    {
      "cell_type": "code",
      "source": [
        "from tensorflow.keras.layers import Dense, LSTM, TimeDistributed, Conv2D, MaxPooling2D, Flatten\n",
        "from tensorflow.keras.models import Sequential\n",
        "\n",
        "def create_model(num_classes):\n",
        "    model = Sequential([\n",
        "        # Assuming that each frame is preprocessed to be 224x224 pixels\n",
        "        TimeDistributed(Conv2D(32, (3, 3), activation='relu'), input_shape=(20, 224, 224, 3)),\n",
        "        TimeDistributed(MaxPooling2D(2, 2)),\n",
        "        TimeDistributed(Flatten()),\n",
        "        LSTM(10),\n",
        "        Dense(num_classes, activation='sigmoid')\n",
        "    ])\n",
        "\n",
        "    model.compile(optimizer='adam',\n",
        "                  loss='categorical_crossentropy',\n",
        "                  metrics=['accuracy'])\n",
        "    return model\n"
      ],
      "metadata": {
        "id": "5np1IQUk1euW"
      },
      "execution_count": 7,
      "outputs": []
    },
    {
      "cell_type": "code",
      "source": [
        "from sklearn.model_selection import train_test_split\n",
        "from tensorflow.keras.utils import to_categorical\n",
        "# Initialize the LabelEncoder\n",
        "\n",
        "from sklearn.preprocessing import LabelEncoder\n",
        "\n",
        "# Sample labels list\n",
        "\n",
        "# Initialize the LabelEncoder\n",
        "label_encoder = LabelEncoder()\n",
        "\n",
        "# Fit label encoder and return encoded labels\n",
        "encoded_labels = label_encoder.fit_transform(labels)\n",
        "# Fit label encoder and return encoded labels\n",
        "num_classes = len(np.unique(labels))  # Determine the number of unique classes\n",
        "\n",
        "# Convert labels to categorical one-hot encoding\n",
        "labels_categorical = to_categorical(encoded_labels, num_classes=num_classes)\n",
        "\n",
        "# Split the data into training and testing sets\n",
        "X_train, X_test, y_train, y_test = train_test_split(\n",
        "    np.array(preprocessed_videos), labels_categorical, test_size=0.2, random_state=42\n",
        ")\n",
        "\n",
        "# Create the model with the updated number of frames (20 in your case)\n",
        "model = create_model(num_classes)\n",
        "\n",
        "# Train the model\n",
        "history = model.fit(\n",
        "    X_train, y_train,\n",
        "    validation_data=(X_test, y_test),\n",
        "    epochs=5,  # Adjust the number of epochs as necessary\n",
        "    batch_size=10  # Adjust the batch size as necessary\n",
        ")\n",
        "\n",
        "# Evaluate the model on the test data\n",
        "scores = model.evaluate(X_test, y_test, verbose=0)\n",
        "print(f\"Test Accuracy: {scores[1]*100}%\")\n",
        "\n"
      ],
      "metadata": {
        "colab": {
          "base_uri": "https://localhost:8080/"
        },
        "id": "oHaOC5nS2Wrl",
        "outputId": "0de72d3d-e907-4f5d-c7a7-7ba33a9df9ee"
      },
      "execution_count": 9,
      "outputs": [
        {
          "output_type": "stream",
          "name": "stdout",
          "text": [
            "Epoch 1/5\n",
            "4/4 [==============================] - 5s 511ms/step - loss: 1.5679 - accuracy: 0.4375 - val_loss: 1.0045 - val_accuracy: 0.6250\n",
            "Epoch 2/5\n",
            "4/4 [==============================] - 1s 219ms/step - loss: 1.3965 - accuracy: 0.4688 - val_loss: 1.0092 - val_accuracy: 0.6250\n",
            "Epoch 3/5\n",
            "4/4 [==============================] - 1s 211ms/step - loss: 1.3922 - accuracy: 0.4688 - val_loss: 1.0008 - val_accuracy: 0.6250\n",
            "Epoch 4/5\n",
            "4/4 [==============================] - 1s 218ms/step - loss: 1.3787 - accuracy: 0.4688 - val_loss: 0.9908 - val_accuracy: 0.6250\n",
            "Epoch 5/5\n",
            "4/4 [==============================] - 1s 208ms/step - loss: 1.3638 - accuracy: 0.4688 - val_loss: 0.9804 - val_accuracy: 0.6250\n",
            "Test Accuracy: 62.5%\n"
          ]
        }
      ]
    },
    {
      "cell_type": "code",
      "source": [],
      "metadata": {
        "id": "WCIGNS6h4eUj"
      },
      "execution_count": null,
      "outputs": []
    }
  ]
}